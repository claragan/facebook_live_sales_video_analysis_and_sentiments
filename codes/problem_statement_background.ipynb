{
 "cells": [
  {
   "cell_type": "markdown",
   "id": "6ab8691c",
   "metadata": {},
   "source": [
    "# Problem Statement\n",
    "\n",
    "As part of the data science team for Facebook Watch , we wish to conduct a training to the e-commerce food businesses to help them to better understand their business and understand viewer sentiments and discussion themes. As such, they will be able to provide more appropriate products and improved services to their viewers over their live streaming videos, which will in turn increase their revenue from their live streaming videos."
   ]
  },
  {
   "cell_type": "markdown",
   "id": "faa77bc6",
   "metadata": {},
   "source": [
    "# Background\n",
    "\n",
    "Live streaming videos have become increasingly popular, especially with the COVID-19 pandemic that has made individuals feel increasingly isolated in due to the decrease in physical social interactions. This too has forced many businesses to rethink how sales can be done. Traditionally, sales were done primarily through retail stores, online e-commerce platforms and/or websites, or possibly even over the phone. With the rise of live streaming platforms, many businesses have hence turned to them to promote the sale of their products and/or services over live streaming videos. \n",
    "\n",
    "The barriers to entry for businesses to utilize live streaming videos are low as one merely needs a phone and a voice to speak out. With such low barriers to entry, many businesses have taken the plunge to engage with their new & existing customers over live streaming videos which often come with attractive perks for the customers. From the special time-limited discount codes to the limited edition quality products that are sold over the live videos on a first-come-first-serve basis, this attractive qualities that live streaming videos provide is refreshing & new to the scene of sales. Furthermore, customers can engage in having their queries and doubts answered promptly and immediately over the live streaming videos. All this varying benefits from shopping via live streaming videos at the expense of the comfort of one's home, is indeed attractive.\n",
    "\n",
    "However, are business owners able to fully understand their customers? The lack of physical social interaction and inability for them to take social cues, can be a gap between the business owners and customers. "
   ]
  }
 ],
 "metadata": {
  "kernelspec": {
   "display_name": "Python 3 (ipykernel)",
   "language": "python",
   "name": "python3"
  },
  "language_info": {
   "codemirror_mode": {
    "name": "ipython",
    "version": 3
   },
   "file_extension": ".py",
   "mimetype": "text/x-python",
   "name": "python",
   "nbconvert_exporter": "python",
   "pygments_lexer": "ipython3",
   "version": "3.8.12"
  }
 },
 "nbformat": 4,
 "nbformat_minor": 5
}
