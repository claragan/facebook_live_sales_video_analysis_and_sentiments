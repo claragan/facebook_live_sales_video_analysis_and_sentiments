{
 "cells": [
  {
   "cell_type": "code",
   "execution_count": 1,
   "id": "1fe871b9",
   "metadata": {},
   "outputs": [],
   "source": [
    "from selenium import webdriver\n",
    "from selenium.common.exceptions import TimeoutException\n",
    "from selenium.common.exceptions import NoSuchElementException\n",
    "from selenium.common.exceptions import StaleElementReferenceException\n",
    "\n",
    "import time\n",
    "import re\n",
    "from urllib.request import urlopen\n",
    "import json\n",
    "from pandas.io.json import json_normalize\n",
    "import pandas as pd, numpy as np\n",
    "from bs4 import BeautifulSoup as bs"
   ]
  },
  {
   "cell_type": "code",
   "execution_count": 2,
   "id": "178bc48e",
   "metadata": {},
   "outputs": [],
   "source": [
    "### specify the values for the following variables and then run all the cells\n",
    "fb_username = ''\n",
    "fb_password = ''"
   ]
  },
  {
   "cell_type": "code",
   "execution_count": 3,
   "id": "6dcdb1d4",
   "metadata": {},
   "outputs": [],
   "source": [
    "from selenium import webdriver\n",
    "driver = webdriver.Firefox() #if your chromedriver.exe inside root\n",
    "driver.get(\"https://www.facebook.com\")"
   ]
  },
  {
   "cell_type": "code",
   "execution_count": 4,
   "id": "e32f667d",
   "metadata": {},
   "outputs": [],
   "source": [
    "from selenium.webdriver.common.keys import Keys\n",
    "from selenium.webdriver.support import expected_conditions as EC\n",
    "from selenium.webdriver.common.by import By\n",
    "from selenium.webdriver.support.wait import WebDriverWait\n",
    "username = WebDriverWait(driver, 10).until(EC.element_to_be_clickable((By.CSS_SELECTOR, \"input[name='email']\")))\n",
    "password = WebDriverWait(driver, 10).until(EC.element_to_be_clickable((By.CSS_SELECTOR, \"input[name='pass']\")))"
   ]
  },
  {
   "cell_type": "code",
   "execution_count": 5,
   "id": "8fdfe78a",
   "metadata": {},
   "outputs": [],
   "source": [
    "username.clear()\n",
    "username.send_keys(fb_username)\n",
    "password.clear()\n",
    "password.send_keys(fb_password)\n",
    "Login_button = WebDriverWait(driver, 2).until(EC.element_to_be_clickable((By.CSS_SELECTOR, \"button[type='submit']\"))).click()"
   ]
  },
  {
   "cell_type": "code",
   "execution_count": 6,
   "id": "77670848",
   "metadata": {},
   "outputs": [
    {
     "data": {
      "text/plain": [
       "\"\\n#videos from before 23 Nov 2021\\nvideo = ['OCEANSTARLIVE/videos/2174138006061999', #296\\n         'OCEANSTARLIVE/videos/869455797269649', \\n         'OCEANSTARLIVE/videos/440316487506965', #286\\n         'OCEANSTARLIVE/videos/263473255843186', \\n         'OCEANSTARLIVE/videos/581200849664350', \\n         'OCEANSTARLIVE/videos/446013826865623', \\n         'OCEANSTARLIVE/videos/1341331842951854', \\n         'firstmarketonlinebidding/videos/1154589955062118', #356\\n         'firstmarketonlinebidding/videos/393831265391428', #452\\n         'firstmarketonlinebidding/videos/4005781892840378', #384\\n         'firstmarketonlinebidding/videos/2947780545468317', #420\\n         'firstmarketonlinebidding/videos/800966787287352', #433\\n         'firstmarketonlinebidding/videos/2316804911784261', #478\\n         'firstmarketonlinebidding/videos/537823353930254', #486\\n         'JurongLianHuat/videos/1035416420615585', #3k \\n         'JurongLianHuat/videos/440240837501497', #4k\\n         'JurongLianHuat/videos/1697698127101175', #3.4k \\n         'JurongLianHuat/videos/1119515201785984', #3.2k \\n         'JurongLianHuat/videos/182964640435738', #2.6k\\n         'JurongLianHuat/videos/822177471762864', #1.6k\\n         'JurongLianHuat/videos/442967036987240', #2k\\n         ]\\n\""
      ]
     },
     "execution_count": 6,
     "metadata": {},
     "output_type": "execute_result"
    }
   ],
   "source": [
    "# target video post url\n",
    "video = 'firstmarketonlinebidding/videos/1154589955062118'\n",
    "driver.get('https://www.facebook.com/'+ video)\n",
    "\n",
    "'''\n",
    "#videos from before 23 Nov 2021\n",
    "video = ['OCEANSTARLIVE/videos/2174138006061999', #296\n",
    "         'OCEANSTARLIVE/videos/869455797269649', \n",
    "         'OCEANSTARLIVE/videos/440316487506965', #286\n",
    "         'OCEANSTARLIVE/videos/263473255843186', \n",
    "         'OCEANSTARLIVE/videos/581200849664350', \n",
    "         'OCEANSTARLIVE/videos/446013826865623', \n",
    "         'OCEANSTARLIVE/videos/1341331842951854', \n",
    "         'firstmarketonlinebidding/videos/1154589955062118', #356\n",
    "         'firstmarketonlinebidding/videos/393831265391428', #452\n",
    "         'firstmarketonlinebidding/videos/4005781892840378', #384\n",
    "         'firstmarketonlinebidding/videos/2947780545468317', #420\n",
    "         'firstmarketonlinebidding/videos/800966787287352', #433\n",
    "         'firstmarketonlinebidding/videos/2316804911784261', #478\n",
    "         'firstmarketonlinebidding/videos/537823353930254', #486\n",
    "         'JurongLianHuat/videos/1035416420615585', #3k \n",
    "         'JurongLianHuat/videos/440240837501497', #4k\n",
    "         'JurongLianHuat/videos/1697698127101175', #3.4k \n",
    "         'JurongLianHuat/videos/1119515201785984', #3.2k \n",
    "         'JurongLianHuat/videos/182964640435738', #2.6k\n",
    "         'JurongLianHuat/videos/822177471762864', #1.6k\n",
    "         'JurongLianHuat/videos/442967036987240', #2k\n",
    "         ]\n",
    "'''"
   ]
  },
  {
   "cell_type": "code",
   "execution_count": 7,
   "id": "25ee95d1",
   "metadata": {},
   "outputs": [],
   "source": [
    "# click on 'number of comments'\n",
    "show_comments = WebDriverWait(driver, 10).until(EC.element_to_be_clickable((By.XPATH, '/html/body/div[1]/div/div[1]/div/div[3]/div/div/div[1]/div[1]/div[2]/div/div[2]/div[1]/div[3]/div/div/div/div/div[2]/div/div[3]/div'))).click()\n",
    "driver.implicitly_wait(10) # seconds"
   ]
  },
  {
   "cell_type": "code",
   "execution_count": 8,
   "id": "21bf188c",
   "metadata": {},
   "outputs": [],
   "source": [
    "# click on comment filter\n",
    "comment_filter = WebDriverWait(driver, 10).until(EC.element_to_be_clickable((By.XPATH, '/html/body/div[1]/div/div[1]/div/div[3]/div/div/div[1]/div[1]/div[2]/div/div[2]/div[1]/div[3]/div/div[2]/div[1]/div/div/div'))).click()\n",
    "driver.implicitly_wait(10) # seconds\n",
    "\n",
    "# click on Newest comment filter\n",
    "newest_comment_filter = WebDriverWait(driver, 10).until(EC.element_to_be_clickable((By.XPATH, '/html/body/div[1]/div/div[1]/div/div[3]/div/div/div[2]/div/div/div[1]/div[1]/div/div/div[1]/div/div/div/div[1]/div/div[3]'))).click()\n",
    "driver.implicitly_wait(20) # seconds"
   ]
  },
  {
   "cell_type": "code",
   "execution_count": 11,
   "id": "b35dd651",
   "metadata": {},
   "outputs": [],
   "source": [
    "# extract comment Position\n",
    "source = driver.page_source\n",
    "data=bs(source, 'html.parser')\n",
    "\n",
    "#find total number of comments per facebook video\n",
    "# Retrieve current comment position\n",
    "commentPosition = data.find_all('span', class_='d2edcug0 hpfvmrgz qv66sw1b c1et5uql oi732d6d ik7dh3pa ht8s03o8 a8c37x1j keod5gw0 nxhoafnm aigsh9s9 d3f4x2em fe6kdd0r mau55g9w c8b282yb iv3no6db jq4qci2q a3bd9o3v b1v8xokw m9osqain oqcyycmt')\n",
    "commentPosition = re.search('<span class=\"d2edcug0 hpfvmrgz qv66sw1b c1et5uql oi732d6d ik7dh3pa ht8s03o8 a8c37x1j keod5gw0 nxhoafnm aigsh9s9 d3f4x2em fe6kdd0r mau55g9w c8b282yb iv3no6db jq4qci2q a3bd9o3v b1v8xokw m9osqain oqcyycmt\" dir=\"auto\">(.*)</span>', str(commentPosition), re.IGNORECASE)\n",
    "\n",
    "commentPosition = str(commentPosition.group(1))\n",
    "commentPosition = commentPosition.split('of')\n",
    "\n",
    "currentComment = commentPosition[0]\n",
    "totalComment = commentPosition[1]"
   ]
  },
  {
   "cell_type": "code",
   "execution_count": 14,
   "id": "4043b349",
   "metadata": {},
   "outputs": [
    {
     "name": "stdout",
     "output_type": "stream",
     "text": [
      "Scrap completed for video of  352 comments.\n"
     ]
    }
   ],
   "source": [
    "# click on view more comments\n",
    "# change the range number to the number of clicks need to load all the comments\n",
    "count = 0\n",
    "while currentComment != totalComment:\n",
    "    \n",
    "    try:\n",
    "        driver.implicitly_wait(10) # seconds\n",
    "        show_more_comments = WebDriverWait(driver, 10).until(EC.element_to_be_clickable((By.XPATH, '/html/body/div[1]/div/div[1]/div/div[3]/div/div/div[1]/div[1]/div[2]/div/div[2]/div[1]/div[3]/div/div[2]/div[2]/div[2]/div[1]/div[2]/span/span'))).click()\n",
    "\n",
    "        # extract comment Position\n",
    "        source = driver.page_source\n",
    "        data=bs(source, 'html.parser')\n",
    "\n",
    "        # Retrieve current comment position\n",
    "        commentPosition = data.find_all('span', class_='d2edcug0 hpfvmrgz qv66sw1b c1et5uql oi732d6d ik7dh3pa ht8s03o8 a8c37x1j keod5gw0 nxhoafnm aigsh9s9 d3f4x2em fe6kdd0r mau55g9w c8b282yb iv3no6db jq4qci2q a3bd9o3v b1v8xokw m9osqain oqcyycmt')\n",
    "        commentPosition = re.search('<span class=\"d2edcug0 hpfvmrgz qv66sw1b c1et5uql oi732d6d ik7dh3pa ht8s03o8 a8c37x1j keod5gw0 nxhoafnm aigsh9s9 d3f4x2em fe6kdd0r mau55g9w c8b282yb iv3no6db jq4qci2q a3bd9o3v b1v8xokw m9osqain oqcyycmt\" dir=\"auto\">(.*)</span>', str(commentPosition), re.IGNORECASE)\n",
    "        \n",
    "        commentPosition = str(commentPosition.group(1))\n",
    "        commentPosition = commentPosition.split('of')\n",
    "\n",
    "        currentComment = commentPosition[0]\n",
    "        totalComment = commentPosition[1]\n",
    "        \n",
    "        count = 0\n",
    "        \n",
    "    except AttributeError as err:\n",
    "        print(err, 'Attribute Error')\n",
    "        break\n",
    "    \n",
    "    except TimeoutException as ex:\n",
    "        count = count + 1\n",
    "        if count == 5:\n",
    "            print(f'Scrap completed for video of {totalComment} comments.')\n",
    "            break\n",
    "            \n",
    "    except StaleElementReferenceException as exception:\n",
    "        print(exception, 'StaleElementReferenceException')\n",
    "        print(f'{currentComment} comments out of {totalComment} comments have been minimally loaded.')\n",
    "        break"
   ]
  },
  {
   "cell_type": "code",
   "execution_count": 15,
   "id": "61e1cdb9",
   "metadata": {},
   "outputs": [
    {
     "name": "stdout",
     "output_type": "stream",
     "text": [
      "All comments have been expanded\n"
     ]
    }
   ],
   "source": [
    "# Click on all the 'See More' links that appear on comments\n",
    "xpath=\"//*[contains(@class, 'oajrlxb2 g5ia77u1 qu0x051f esr5mh6w e9989ue4 r7d6kgcz rq0escxv nhd2j8a9 nc684nl6 p7hjln8o kvgmc6g5 cxmmr5t8 oygrvhab hcukyx3x jb3vyjys rz4wbd8a qt6c0cv9 a8nywdso i1ao9s8h esuyzwwr f1sip0of lzcic4wl oo9gr5id gpro0wi8 lrazzd5p')]\";\n",
    "try:\n",
    "    while xpath:\n",
    "        WebDriverWait(driver, 50).until(EC.element_to_be_clickable((By.XPATH, xpath))).click()\n",
    "        xpath=\"//*[contains(@class, 'oajrlxb2 g5ia77u1 qu0x051f esr5mh6w e9989ue4 r7d6kgcz rq0escxv nhd2j8a9 nc684nl6 p7hjln8o kvgmc6g5 cxmmr5t8 oygrvhab hcukyx3x jb3vyjys rz4wbd8a qt6c0cv9 a8nywdso i1ao9s8h esuyzwwr f1sip0of lzcic4wl oo9gr5id gpro0wi8 lrazzd5p')]\";\n",
    "        driver.implicitly_wait(80) # second\n",
    "        \n",
    "except TimeoutException as ex:\n",
    "    print(\"All comments have been expanded\")"
   ]
  },
  {
   "cell_type": "code",
   "execution_count": 16,
   "id": "38d4abcf",
   "metadata": {},
   "outputs": [],
   "source": [
    "# dfs of different columns\n",
    "df = pd.DataFrame(columns=['postComment'])\n",
    "df2 = pd.DataFrame(columns=['postCommentAuthor'])\n",
    "df3 = pd.DataFrame(columns=['postCommentTime'])\n",
    "\n",
    "\n",
    "# extract fully-loaded source code containing all the comments\n",
    "source = driver.page_source\n",
    "data=bs(source, 'html.parser')\n",
    "\n",
    "\n",
    "comments = data.find_all('div', class_='kvgmc6g5 cxmmr5t8 oygrvhab hcukyx3x c1et5uql')\n",
    "for i in range(len(comments)):\n",
    "    # retrieve each formatted comment and add to data frame\n",
    "    # capture the string that appears within the div tag\n",
    "    comment = re.search('<div class=\"kvgmc6g5 cxmmr5t8 oygrvhab hcukyx3x c1et5uql\"><div dir=\"auto\" style=\"text-align: start;\">(.*)</div></div>', str(comments[i]), re.IGNORECASE)\n",
    "    if comment:\n",
    "        df = df.append({'postComment': str(comment.group(1))}, ignore_index=True)  \n",
    "    \n",
    "    \n",
    "cAuthors = data.find_all('span', class_='d2edcug0 hpfvmrgz qv66sw1b c1et5uql oi732d6d ik7dh3pa ht8s03o8 a8c37x1j keod5gw0 nxhoafnm aigsh9s9 d9wwppkn fe6kdd0r mau55g9w c8b282yb mdeji52x e9vueds3 j5wam9gi lrazzd5p oo9gr5id')\n",
    "for i in range(len(cAuthors)):\n",
    "    # retrieve each formatted author and add to data frame\n",
    "    cAuthor = re.search('<span class=\"d2edcug0 hpfvmrgz qv66sw1b c1et5uql oi732d6d ik7dh3pa ht8s03o8 a8c37x1j keod5gw0 nxhoafnm aigsh9s9 d9wwppkn fe6kdd0r mau55g9w c8b282yb mdeji52x e9vueds3 j5wam9gi lrazzd5p oo9gr5id\" dir=\"auto\">(.*)</span>', str(cAuthors[i]), re.IGNORECASE)\n",
    "    if cAuthor:\n",
    "        df2 = df2.append({'postCommentAuthor': str(cAuthor.group(1))}, ignore_index=True)    \n",
    "        \n",
    "        \n",
    "cTimes = data.find_all('div', class_='oajrlxb2 g5ia77u1 qu0x051f esr5mh6w e9989ue4 r7d6kgcz rq0escxv nhd2j8a9 nc684nl6 p7hjln8o kvgmc6g5 cxmmr5t8 oygrvhab hcukyx3x jb3vyjys rz4wbd8a qt6c0cv9 a8nywdso i1ao9s8h esuyzwwr f1sip0of lzcic4wl gmql0nx0 gpro0wi8')\n",
    "for i in range(len(cTimes)):\n",
    "    # retrieve each formatted comment Time and add to data frame\n",
    "    cTime = re.search('<div class=\"oajrlxb2 g5ia77u1 qu0x051f esr5mh6w e9989ue4 r7d6kgcz rq0escxv nhd2j8a9 nc684nl6 p7hjln8o kvgmc6g5 cxmmr5t8 oygrvhab hcukyx3x jb3vyjys rz4wbd8a qt6c0cv9 a8nywdso i1ao9s8h esuyzwwr f1sip0of lzcic4wl gmql0nx0 gpro0wi8\" role=\"button\" tabindex=\"0\">(.*)</div>', str(cTimes[i]), re.IGNORECASE)\n",
    "    if cTime:\n",
    "        df3 = df3.append({'postCommentTime': str(cTime.group(1))}, ignore_index=True)\n",
    "        "
   ]
  },
  {
   "cell_type": "code",
   "execution_count": 17,
   "id": "f68fe9c7",
   "metadata": {},
   "outputs": [],
   "source": [
    "# combine data frames\n",
    "df = pd.merge(df, df2, left_index=True, right_index=True)\n",
    "df = pd.merge(df, df3, left_index=True, right_index=True)"
   ]
  },
  {
   "cell_type": "code",
   "execution_count": 18,
   "id": "23353318",
   "metadata": {
    "scrolled": true
   },
   "outputs": [
    {
     "data": {
      "text/html": [
       "<div>\n",
       "<style scoped>\n",
       "    .dataframe tbody tr th:only-of-type {\n",
       "        vertical-align: middle;\n",
       "    }\n",
       "\n",
       "    .dataframe tbody tr th {\n",
       "        vertical-align: top;\n",
       "    }\n",
       "\n",
       "    .dataframe thead th {\n",
       "        text-align: right;\n",
       "    }\n",
       "</style>\n",
       "<table border=\"1\" class=\"dataframe\">\n",
       "  <thead>\n",
       "    <tr style=\"text-align: right;\">\n",
       "      <th></th>\n",
       "      <th>postComment</th>\n",
       "      <th>postCommentAuthor</th>\n",
       "      <th>postCommentTime</th>\n",
       "    </tr>\n",
       "  </thead>\n",
       "  <tbody>\n",
       "    <tr>\n",
       "      <th>0</th>\n",
       "      <td>Bid Code : RS10+1 // Red Snapper 500g-600g $10</td>\n",
       "      <td>FirstMarketOnlineBidding</td>\n",
       "      <td>5:55</td>\n",
       "    </tr>\n",
       "    <tr>\n",
       "      <th>1</th>\n",
       "      <td>Hi</td>\n",
       "      <td>Lee Doreen</td>\n",
       "      <td>0:24</td>\n",
       "    </tr>\n",
       "    <tr>\n",
       "      <th>2</th>\n",
       "      <td>Any live tmr?</td>\n",
       "      <td>Ann Chew</td>\n",
       "      <td>1:00:33</td>\n",
       "    </tr>\n",
       "    <tr>\n",
       "      <th>3</th>\n",
       "      <td>Code for Hei Zou pls</td>\n",
       "      <td>Sharon Cheong</td>\n",
       "      <td>59:15</td>\n",
       "    </tr>\n",
       "    <tr>\n",
       "      <th>4</th>\n",
       "      <td>Hi, any Hei Zou</td>\n",
       "      <td>Sharon Cheong</td>\n",
       "      <td>1:01:07</td>\n",
       "    </tr>\n",
       "    <tr>\n",
       "      <th>...</th>\n",
       "      <td>...</td>\n",
       "      <td>...</td>\n",
       "      <td>...</td>\n",
       "    </tr>\n",
       "    <tr>\n",
       "      <th>349</th>\n",
       "      <td>Lns</td>\n",
       "      <td>Tony Choo</td>\n",
       "      <td>1:27</td>\n",
       "    </tr>\n",
       "    <tr>\n",
       "      <th>350</th>\n",
       "      <td>Lns</td>\n",
       "      <td>Sharon Soh</td>\n",
       "      <td>1:10</td>\n",
       "    </tr>\n",
       "    <tr>\n",
       "      <th>351</th>\n",
       "      <td>LNS</td>\n",
       "      <td>Sharon Soh</td>\n",
       "      <td>1:06</td>\n",
       "    </tr>\n",
       "    <tr>\n",
       "      <th>352</th>\n",
       "      <td>Lns</td>\n",
       "      <td>Apple April</td>\n",
       "      <td>1:06</td>\n",
       "    </tr>\n",
       "    <tr>\n",
       "      <th>353</th>\n",
       "      <td>Lns</td>\n",
       "      <td>Tony Choo</td>\n",
       "      <td>0:19</td>\n",
       "    </tr>\n",
       "  </tbody>\n",
       "</table>\n",
       "<p>354 rows × 3 columns</p>\n",
       "</div>"
      ],
      "text/plain": [
       "                                        postComment         postCommentAuthor  \\\n",
       "0    Bid Code : RS10+1 // Red Snapper 500g-600g $10  FirstMarketOnlineBidding   \n",
       "1                                                Hi                Lee Doreen   \n",
       "2                                     Any live tmr?                  Ann Chew   \n",
       "3                              Code for Hei Zou pls             Sharon Cheong   \n",
       "4                                   Hi, any Hei Zou             Sharon Cheong   \n",
       "..                                              ...                       ...   \n",
       "349                                             Lns                 Tony Choo   \n",
       "350                                             Lns                Sharon Soh   \n",
       "351                                             LNS                Sharon Soh   \n",
       "352                                             Lns               Apple April   \n",
       "353                                             Lns                 Tony Choo   \n",
       "\n",
       "    postCommentTime  \n",
       "0              5:55  \n",
       "1              0:24  \n",
       "2           1:00:33  \n",
       "3             59:15  \n",
       "4           1:01:07  \n",
       "..              ...  \n",
       "349            1:27  \n",
       "350            1:10  \n",
       "351            1:06  \n",
       "352            1:06  \n",
       "353            0:19  \n",
       "\n",
       "[354 rows x 3 columns]"
      ]
     },
     "execution_count": 18,
     "metadata": {},
     "output_type": "execute_result"
    }
   ],
   "source": [
    "df"
   ]
  },
  {
   "cell_type": "code",
   "execution_count": 19,
   "id": "95f6673d",
   "metadata": {},
   "outputs": [],
   "source": [
    "from natsort import natsorted, index_natsorted, order_by_index\n",
    "#reindex according to postCommentTime\n",
    "df2 = df.reindex(index=order_by_index(df.index, index_natsorted(df.postCommentTime)))"
   ]
  },
  {
   "cell_type": "code",
   "execution_count": 20,
   "id": "29524e49",
   "metadata": {},
   "outputs": [
    {
     "data": {
      "text/html": [
       "<div>\n",
       "<style scoped>\n",
       "    .dataframe tbody tr th:only-of-type {\n",
       "        vertical-align: middle;\n",
       "    }\n",
       "\n",
       "    .dataframe tbody tr th {\n",
       "        vertical-align: top;\n",
       "    }\n",
       "\n",
       "    .dataframe thead th {\n",
       "        text-align: right;\n",
       "    }\n",
       "</style>\n",
       "<table border=\"1\" class=\"dataframe\">\n",
       "  <thead>\n",
       "    <tr style=\"text-align: right;\">\n",
       "      <th></th>\n",
       "      <th>postComment</th>\n",
       "      <th>postCommentAuthor</th>\n",
       "      <th>postCommentTime</th>\n",
       "    </tr>\n",
       "  </thead>\n",
       "  <tbody>\n",
       "    <tr>\n",
       "      <th>353</th>\n",
       "      <td>Lns</td>\n",
       "      <td>Tony Choo</td>\n",
       "      <td>0:19</td>\n",
       "    </tr>\n",
       "    <tr>\n",
       "      <th>1</th>\n",
       "      <td>Hi</td>\n",
       "      <td>Lee Doreen</td>\n",
       "      <td>0:24</td>\n",
       "    </tr>\n",
       "    <tr>\n",
       "      <th>7</th>\n",
       "      <td>BC65+2</td>\n",
       "      <td>Katherine Ong</td>\n",
       "      <td>1:00:01</td>\n",
       "    </tr>\n",
       "    <tr>\n",
       "      <th>10</th>\n",
       "      <td>P4+1</td>\n",
       "      <td>Katherine Ong</td>\n",
       "      <td>1:00:09</td>\n",
       "    </tr>\n",
       "    <tr>\n",
       "      <th>8</th>\n",
       "      <td>thanks FFL</td>\n",
       "      <td>Catherine Soong</td>\n",
       "      <td>1:00:26</td>\n",
       "    </tr>\n",
       "    <tr>\n",
       "      <th>...</th>\n",
       "      <td>...</td>\n",
       "      <td>...</td>\n",
       "      <td>...</td>\n",
       "    </tr>\n",
       "    <tr>\n",
       "      <th>15</th>\n",
       "      <td>Can show Katsudon?</td>\n",
       "      <td>April Dove</td>\n",
       "      <td>59:06</td>\n",
       "    </tr>\n",
       "    <tr>\n",
       "      <th>3</th>\n",
       "      <td>Code for Hei Zou pls</td>\n",
       "      <td>Sharon Cheong</td>\n",
       "      <td>59:15</td>\n",
       "    </tr>\n",
       "    <tr>\n",
       "      <th>13</th>\n",
       "      <td>NR129+1</td>\n",
       "      <td>Katherine Ong</td>\n",
       "      <td>59:22</td>\n",
       "    </tr>\n",
       "    <tr>\n",
       "      <th>11</th>\n",
       "      <td>NC89+1</td>\n",
       "      <td>Katherine Ong</td>\n",
       "      <td>59:48</td>\n",
       "    </tr>\n",
       "    <tr>\n",
       "      <th>12</th>\n",
       "      <td>Nc89+1</td>\n",
       "      <td>Anne Chan</td>\n",
       "      <td>59:55</td>\n",
       "    </tr>\n",
       "  </tbody>\n",
       "</table>\n",
       "<p>354 rows × 3 columns</p>\n",
       "</div>"
      ],
      "text/plain": [
       "              postComment postCommentAuthor postCommentTime\n",
       "353                   Lns         Tony Choo            0:19\n",
       "1                      Hi        Lee Doreen            0:24\n",
       "7                  BC65+2     Katherine Ong         1:00:01\n",
       "10                   P4+1     Katherine Ong         1:00:09\n",
       "8             thanks FFL    Catherine Soong         1:00:26\n",
       "..                    ...               ...             ...\n",
       "15     Can show Katsudon?        April Dove           59:06\n",
       "3    Code for Hei Zou pls     Sharon Cheong           59:15\n",
       "13                NR129+1     Katherine Ong           59:22\n",
       "11                 NC89+1     Katherine Ong           59:48\n",
       "12                 Nc89+1         Anne Chan           59:55\n",
       "\n",
       "[354 rows x 3 columns]"
      ]
     },
     "execution_count": 20,
     "metadata": {},
     "output_type": "execute_result"
    }
   ],
   "source": [
    "df2"
   ]
  },
  {
   "cell_type": "code",
   "execution_count": 21,
   "id": "c0e05655",
   "metadata": {},
   "outputs": [],
   "source": [
    "# export to csv - change the name of the data file for each video\n",
    "df2.to_csv('../../data/scrapped_data/firstmarketonlinebidding_1154589955062118.csv', index=False)"
   ]
  },
  {
   "cell_type": "code",
   "execution_count": 22,
   "id": "4210575a",
   "metadata": {},
   "outputs": [],
   "source": [
    "#click on video\n",
    "video_click = driver.find_element(By.XPATH, \"/html/body/div[1]/div/div[1]/div/div[3]/div/div/div[1]/div[1]/div[2]/div/div[2]/div[1]/div[1]/div/div/div/div[2]/div\")\n",
    "video_click.click()"
   ]
  },
  {
   "cell_type": "code",
   "execution_count": 23,
   "id": "ff78199c",
   "metadata": {},
   "outputs": [],
   "source": [
    "#video attributes\n",
    "#totalEmojiReaction to video\n",
    "df_totalEmojiReaction = pd.DataFrame(columns=['totalEmojiReaction'])\n",
    "totalEmojiReaction = driver.find_element(By.XPATH, '/html/body/div[1]/div/div[1]/div/div[4]/div/div/div[1]/div/div[3]/div[2]/div/div/div[2]/div[1]/div/div[1]/div/div/div[2]/div[1]/div/div[1]/div/span/div/span[2]/span/span').text\n",
    "df_totalEmojiReaction = df_totalEmojiReaction.append({'totalEmojiReaction': str(totalEmojiReaction)}, ignore_index = True)\n",
    "\n",
    "#video name\n",
    "df_video = pd.DataFrame(columns=['video_for'])\n",
    "df_video= df_video.append({'video_for': str(video)}, ignore_index = True)\n",
    "\n",
    "#total video views\n",
    "df_views = pd.DataFrame(columns=['views'])\n",
    "views = driver.find_element(By.CSS_SELECTOR, \"._26fq\").text\n",
    "views2 = views.split(' ')\n",
    "views3 = views2[0]\n",
    "df_views= df_views.append({'views': str(views3)}, ignore_index = True)\n",
    "\n",
    "df_video_attributes = pd.concat([df_video, df_totalEmojiReaction, df_views], axis =1)"
   ]
  },
  {
   "cell_type": "code",
   "execution_count": 24,
   "id": "105d3919",
   "metadata": {},
   "outputs": [
    {
     "data": {
      "text/html": [
       "<div>\n",
       "<style scoped>\n",
       "    .dataframe tbody tr th:only-of-type {\n",
       "        vertical-align: middle;\n",
       "    }\n",
       "\n",
       "    .dataframe tbody tr th {\n",
       "        vertical-align: top;\n",
       "    }\n",
       "\n",
       "    .dataframe thead th {\n",
       "        text-align: right;\n",
       "    }\n",
       "</style>\n",
       "<table border=\"1\" class=\"dataframe\">\n",
       "  <thead>\n",
       "    <tr style=\"text-align: right;\">\n",
       "      <th></th>\n",
       "      <th>video_for</th>\n",
       "      <th>totalEmojiReaction</th>\n",
       "      <th>views</th>\n",
       "    </tr>\n",
       "  </thead>\n",
       "  <tbody>\n",
       "    <tr>\n",
       "      <th>0</th>\n",
       "      <td>firstmarketonlinebidding/videos/1154589955062118</td>\n",
       "      <td>29</td>\n",
       "      <td>2.8K</td>\n",
       "    </tr>\n",
       "  </tbody>\n",
       "</table>\n",
       "</div>"
      ],
      "text/plain": [
       "                                          video_for totalEmojiReaction views\n",
       "0  firstmarketonlinebidding/videos/1154589955062118                 29  2.8K"
      ]
     },
     "execution_count": 24,
     "metadata": {},
     "output_type": "execute_result"
    }
   ],
   "source": [
    "df_video_attributes"
   ]
  },
  {
   "cell_type": "code",
   "execution_count": 25,
   "id": "10ed9c51",
   "metadata": {},
   "outputs": [],
   "source": [
    "# export to csv - change the name of the data file for each video\n",
    "df_video_attributes.to_csv('../../data/scrapped_data/va_firstmarketonlinebidding_1154589955062118.csv', index=False)"
   ]
  }
 ],
 "metadata": {
  "kernelspec": {
   "display_name": "Python 3 (ipykernel)",
   "language": "python",
   "name": "python3"
  },
  "language_info": {
   "codemirror_mode": {
    "name": "ipython",
    "version": 3
   },
   "file_extension": ".py",
   "mimetype": "text/x-python",
   "name": "python",
   "nbconvert_exporter": "python",
   "pygments_lexer": "ipython3",
   "version": "3.8.12"
  }
 },
 "nbformat": 4,
 "nbformat_minor": 5
}
